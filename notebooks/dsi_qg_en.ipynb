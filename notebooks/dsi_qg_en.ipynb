{
 "cells": [
  {
   "cell_type": "code",
   "execution_count": 1,
   "metadata": {},
   "outputs": [
    {
     "name": "stdout",
     "output_type": "stream",
     "text": [
      "Python 3.8.20\n"
     ]
    }
   ],
   "source": [
    "!python -V"
   ]
  },
  {
   "cell_type": "code",
   "execution_count": 2,
   "metadata": {},
   "outputs": [
    {
     "name": "stdout",
     "output_type": "stream",
     "text": [
      "11.0\n",
      "True\n"
     ]
    }
   ],
   "source": [
    "import torch\n",
    "print(torch.version.cuda)\n",
    "print(torch.cuda.is_available())"
   ]
  },
  {
   "cell_type": "code",
   "execution_count": null,
   "metadata": {},
   "outputs": [],
   "source": [
    "# conda install pytorch==1.7.0 torchvision==0.8.0 torchaudio==0.7.0 cudatoolkit=11.0 -c pytorch\n",
    "# pip install ipywidgets --upgrade\n",
    "# pip install jupyter --upgrade"
   ]
  },
  {
   "cell_type": "code",
   "execution_count": 11,
   "metadata": {},
   "outputs": [
    {
     "name": "stdout",
     "output_type": "stream",
     "text": [
      "Number of example (all is query) in dev_data: 6980\n",
      "Number of example in train_data: 193020\n",
      "Number of document in train data: 100000\n",
      "Number of query in train data: 93020\n"
     ]
    }
   ],
   "source": [
    "import json\n",
    "\n",
    "# Đường dẫn tới file JSONL\n",
    "dev_path = \"/home/hoang/DSI-QG/data/msmarco_data/100k/msmarco_DSI_dev_data.json\"\n",
    "train_path = \"/home/hoang/DSI-QG/data/msmarco_data/100k/msmarco_DSI_train_data.json\"\n",
    "\n",
    "# Mở file và đọc từng dòng\n",
    "with open(dev_path, 'r', encoding='utf-8') as file:\n",
    "    dev_data = [json.loads(line) for line in file]\n",
    "print(\"Number of example (all is query) in dev_data:\", len(dev_data))\n",
    "\n",
    "with open(train_path, 'r', encoding='utf-8') as file:\n",
    "    train_data = [json.loads(line) for line in file]\n",
    "print(\"Number of example in train_data:\", len(train_data))\n",
    "print(\"Number of document in train data:\", (len(train_data) - len(dev_data)) // 2 + len(dev_data))\n",
    "print(\"Number of query in train data:\", (len(train_data) - len(dev_data)) // 2)"
   ]
  },
  {
   "cell_type": "code",
   "execution_count": 4,
   "metadata": {},
   "outputs": [
    {
     "name": "stdout",
     "output_type": "stream",
     "text": [
      "/home/hoang/DSI-QG/data\n",
      "Creating MS MARCO dataset...\n",
      "Reusing dataset ms_marco_passage_corpus (cache/Tevatron___ms_marco_passage_corpus/default/0.0.1/3d8add51914a7d2b589d09e37f4cd9646ebe4a3bad6d59b4e3702cfcc9941f23)\n",
      "100%|█████████████████████████████████████████████| 1/1 [00:00<00:00,  1.79it/s]\n"
     ]
    }
   ],
   "source": [
    "%cd /home/hoang/DSI-QG/data\n",
    "!python process_marco.py --train_num 8000 --eval_num 2000 --save_dir msmarco_data/10k"
   ]
  },
  {
   "cell_type": "code",
   "execution_count": 5,
   "metadata": {},
   "outputs": [
    {
     "name": "stdout",
     "output_type": "stream",
     "text": [
      "Number of example (all is query) in dev_data: 2000\n",
      "Number of example in train_data: 18000\n",
      "Number of document in train data: 10000\n",
      "Number of query in train data: 8000\n"
     ]
    }
   ],
   "source": [
    "import json\n",
    "\n",
    "# Đường dẫn tới file JSONL\n",
    "dev_path = \"/home/hoang/DSI-QG/data/msmarco_data/10k/msmarco_DSI_dev_data.json\"\n",
    "train_path = \"/home/hoang/DSI-QG/data/msmarco_data/10k/msmarco_DSI_train_data.json\"\n",
    "\n",
    "# Mở file và đọc từng dòng\n",
    "with open(dev_path, 'r', encoding='utf-8') as file:\n",
    "    dev_data = [json.loads(line) for line in file]\n",
    "print(\"Number of example (all is query) in dev_data:\", len(dev_data))\n",
    "\n",
    "with open(train_path, 'r', encoding='utf-8') as file:\n",
    "    train_data = [json.loads(line) for line in file]\n",
    "print(\"Number of example in train_data:\", len(train_data))\n",
    "print(\"Number of document in train data:\", (len(train_data) - len(dev_data)) // 2 + len(dev_data))\n",
    "print(\"Number of query in train data:\", (len(train_data) - len(dev_data)) // 2)"
   ]
  },
  {
   "cell_type": "markdown",
   "metadata": {},
   "source": [
    "# Train Original DSI model"
   ]
  },
  {
   "cell_type": "code",
   "execution_count": null,
   "metadata": {},
   "outputs": [
    {
     "name": "stdout",
     "output_type": "stream",
     "text": [
      "/home/hoang/DSI-QG\n",
      "/home/hoang/.conda/envs/dsi-qg/lib/python3.8/site-packages/huggingface_hub/file_download.py:797: FutureWarning: `resume_download` is deprecated and will be removed in version 1.0.0. Downloads always resume when possible. If you want to force a new download, use `force_download=True`.\n",
      "  warnings.warn(\n",
      "/home/hoang/.conda/envs/dsi-qg/lib/python3.8/site-packages/transformers/convert_slow_tokenizer.py:446: UserWarning: The sentencepiece tokenizer that you are converting to a fast tokenizer uses the byte fallback option which is not implemented in the fast tokenizers. In practice this means that the fast version of the tokenizer can produce unknown tokens whereas the sentencepiece version would have converted these unknown tokens into a sequence of byte tokens matching the original piece of text.\n",
      "  warnings.warn(\n",
      "Using custom data configuration default-b760cb11643ac61f\n",
      "Reusing dataset json (cache/json/default-b760cb11643ac61f/0.0.0/ac0ca5f5289a6cf108e706efcf040422dbbfa8e658dee6a819f20d76bb84d26b)\n",
      "100%|█████████████████████████████████████████████| 1/1 [00:00<00:00, 72.31it/s]\n",
      "100%|████████████████████████████████| 193020/193020 [00:12<00:00, 14918.11it/s]\n",
      "Using custom data configuration default-de1cdb972ef7496b\n",
      "Reusing dataset json (cache/json/default-de1cdb972ef7496b/0.0.0/ac0ca5f5289a6cf108e706efcf040422dbbfa8e658dee6a819f20d76bb84d26b)\n",
      "100%|████████████████████████████████████████████| 1/1 [00:00<00:00, 299.55it/s]\n",
      "100%|████████████████████████████████████| 6980/6980 [00:00<00:00, 16242.57it/s]\n",
      "max_steps is given, it will override any value given in num_train_epochs\n",
      "/home/hoang/.conda/envs/dsi-qg/lib/python3.8/site-packages/transformers/optimization.py:306: FutureWarning: This implementation of AdamW is deprecated and will be removed in a future version. Use the PyTorch implementation torch.optim.AdamW instead, or set `no_deprecation_warning=True` to disable this warning\n",
      "  warnings.warn(\n",
      "***** Running training *****\n",
      "  Num examples = 193020\n",
      "  Num Epochs = 1\n",
      "  Instantaneous batch size per device = 16\n",
      "  Total train batch size (w. parallel, distributed & accumulation) = 16\n",
      "  Gradient Accumulation steps = 1\n",
      "  Total optimization steps = 2000\n",
      "  Number of trainable parameters = 582401280\n",
      "Automatic Weights & Biases logging enabled, to disable set os.environ[\"WANDB_DISABLED\"] = \"true\"\n",
      "\u001b[34m\u001b[1mwandb\u001b[0m: Using wandb-core as the SDK backend.  Please refer to https://wandb.me/wandb-core for more information.\n",
      "\u001b[34m\u001b[1mwandb\u001b[0m: Currently logged in as: \u001b[33mtrunghoang\u001b[0m (\u001b[33mhoangtrung\u001b[0m). Use \u001b[1m`wandb login --relogin`\u001b[0m to force relogin\n",
      "\u001b[34m\u001b[1mwandb\u001b[0m: Tracking run with wandb version 0.18.7\n",
      "\u001b[34m\u001b[1mwandb\u001b[0m: Run data is saved locally in \u001b[35m\u001b[1m/home/hoang/DSI-QG/wandb/run-20241114_174937-drgd5dx1\u001b[0m\n",
      "\u001b[34m\u001b[1mwandb\u001b[0m: Run \u001b[1m`wandb offline`\u001b[0m to turn off syncing.\n",
      "\u001b[34m\u001b[1mwandb\u001b[0m: Syncing run \u001b[33mmsmarco-100k-mt5-base-DSI\u001b[0m\n",
      "\u001b[34m\u001b[1mwandb\u001b[0m: ⭐️ View project at \u001b[34m\u001b[4mhttps://wandb.ai/hoangtrung/huggingface\u001b[0m\n",
      "\u001b[34m\u001b[1mwandb\u001b[0m: 🚀 View run at \u001b[34m\u001b[4mhttps://wandb.ai/hoangtrung/huggingface/runs/drgd5dx1\u001b[0m\n",
      "  2%|▉                                        | 47/2000 [00:17<09:02,  3.60it/s]^C\n"
     ]
    }
   ],
   "source": [
    "%cd /home/hoang/DSI-QG\n",
    "!CUDA_VISIBLE_DEVICES=0 python run.py \\\n",
    "        --task \"DSI\" \\\n",
    "        --model_name \"google/mt5-base\" \\\n",
    "        --run_name \"msmarco-100k-mt5-base-DSI\" \\\n",
    "        --max_length 256 \\\n",
    "        --train_file data/msmarco_data/100k/msmarco_DSI_train_data.json \\\n",
    "        --valid_file data/msmarco_data/100k/msmarco_DSI_dev_data.json \\\n",
    "        --output_dir \"models/msmarco-100k-mt5-base-DSI\" \\\n",
    "        --learning_rate 0.0005 \\\n",
    "        --warmup_steps 100 \\\n",
    "        --per_device_train_batch_size 8 \\\n",
    "        --per_device_eval_batch_size 8 \\\n",
    "        --evaluation_strategy steps \\\n",
    "        --eval_steps 1000 \\\n",
    "        --max_steps 2000 \\\n",
    "        --save_strategy steps \\\n",
    "        --dataloader_num_workers 10 \\\n",
    "        --save_steps 1000 \\\n",
    "        --save_total_limit 1 \\\n",
    "        --load_best_model_at_end \\\n",
    "        --gradient_accumulation_steps 1 \\\n",
    "        --report_to wandb \\\n",
    "        --logging_steps 100 \\\n",
    "        --dataloader_drop_last False \\\n",
    "        --metric_for_best_model Hits@10 \\\n",
    "        --greater_is_better True"
   ]
  },
  {
   "cell_type": "markdown",
   "metadata": {},
   "source": [
    "# Train DSI-QG model"
   ]
  },
  {
   "cell_type": "code",
   "execution_count": null,
   "metadata": {},
   "outputs": [],
   "source": [
    "!nvidia-smi --gpu-reset\n",
    "import torch\n",
    "torch.cuda.empty_cache()"
   ]
  },
  {
   "cell_type": "markdown",
   "metadata": {},
   "source": [
    "## Step 1: Train a query generation model"
   ]
  },
  {
   "cell_type": "code",
   "execution_count": null,
   "metadata": {},
   "outputs": [],
   "source": [
    "%cd /home/hoang/DSI-QG\n",
    "!CUDA_VISIBLE_DEVICES=1 python run.py \\\n",
    "        --task \"docTquery\" \\\n",
    "        --model_name \"google/mt5-large\" \\\n",
    "        --run_name \"docTquery-MSMARCO\" \\\n",
    "        --max_length 128 \\\n",
    "        --train_file data/msmarco_data/100k/msmarco_DSI_train_data.json \\\n",
    "        --valid_file data/msmarco_data/100k/msmarco_DSI_dev_data.json \\\n",
    "        --output_dir \"models/msmarco_docTquery_mt5_large\" \\\n",
    "        --learning_rate 0.0001 \\\n",
    "        --warmup_steps 0 \\\n",
    "        --per_device_train_batch_size 4 \\\n",
    "        --per_device_eval_batch_size 4 \\\n",
    "        --evaluation_strategy steps \\\n",
    "        --eval_steps 100 \\\n",
    "        --max_steps 2000 \\\n",
    "        --save_strategy steps \\\n",
    "        --dataloader_num_workers 10 \\\n",
    "        --save_steps 100 \\\n",
    "        --save_total_limit 2 \\\n",
    "        --load_best_model_at_end \\\n",
    "        --gradient_accumulation_steps 4 \\\n",
    "        --report_to wandb \\\n",
    "        --logging_steps 100 \\\n",
    "        --dataloader_drop_last False"
   ]
  },
  {
   "cell_type": "markdown",
   "metadata": {},
   "source": [
    "## Step 2: Run the query generation"
   ]
  },
  {
   "cell_type": "code",
   "execution_count": null,
   "metadata": {},
   "outputs": [],
   "source": [
    "%cd /home/hoang/DSI-QG\n",
    "!CUDA_VISIBLE_DEVICES=1 python run.py \\\n",
    "        --task generation \\\n",
    "        --model_name google/mt5-large \\\n",
    "        --model_path models/msmarco_docTquery_mt5_large/checkpoint-xxx \\\n",
    "        --per_device_eval_batch_size 32 \\\n",
    "        --run_name docTquery-MSMARCO-generation \\\n",
    "        --max_length 256 \\\n",
    "        --valid_file data/msmarco_data/100k/msmarco_corpus.tsv \\\n",
    "        --output_dir temp \\\n",
    "        --dataloader_num_workers 10 \\\n",
    "        --report_to wandb \\\n",
    "        --logging_steps 100 \\\n",
    "        --num_return_sequences 10"
   ]
  },
  {
   "cell_type": "markdown",
   "metadata": {},
   "source": [
    "## Step 3: Train DSI-QG with query-represented corpus"
   ]
  },
  {
   "cell_type": "code",
   "execution_count": null,
   "metadata": {},
   "outputs": [],
   "source": [
    "%cd /home/hoang/DSI-QG\n",
    "!CUDA_VISIBLE_DEVICES=1 python run.py \\\n",
    "        --task \"DSI\" \\\n",
    "        --model_name \"google/mt5-base\" \\\n",
    "        --run_name \"MSMARCO-100k-mt5-base-DSI-QG\" \\\n",
    "        --max_length 32 \\\n",
    "        --train_file data/msmarco_data/100k/msmarco_corpus.tsv.q10.docTquery \\\n",
    "        --valid_file data/msmarco_data/100k/msmarco_DSI_dev_data.json \\\n",
    "        --output_dir \"models/MSMARCO-100k-mt5-base-DSI-QG\" \\\n",
    "        --learning_rate 0.0005 \\\n",
    "        --warmup_steps 100000 \\\n",
    "        --per_device_train_batch_size 32 \\\n",
    "        --per_device_eval_batch_size 32 \\\n",
    "        --evaluation_strategy steps \\\n",
    "        --eval_steps 1000 \\\n",
    "        --max_steps 1000000 \\\n",
    "        --save_strategy steps \\\n",
    "        --dataloader_num_workers 10 \\\n",
    "        --save_steps 1000 \\\n",
    "        --save_total_limit 2 \\\n",
    "        --load_best_model_at_end \\\n",
    "        --gradient_accumulation_steps 1 \\\n",
    "        --report_to wandb \\\n",
    "        --logging_steps 100 \\\n",
    "        --dataloader_drop_last False \\\n",
    "        --metric_for_best_model Hits@10 \\\n",
    "        --greater_is_better True \\\n",
    "        --remove_prompt True"
   ]
  }
 ],
 "metadata": {
  "kernelspec": {
   "display_name": "dsi-qg",
   "language": "python",
   "name": "python3"
  },
  "language_info": {
   "codemirror_mode": {
    "name": "ipython",
    "version": 3
   },
   "file_extension": ".py",
   "mimetype": "text/x-python",
   "name": "python",
   "nbconvert_exporter": "python",
   "pygments_lexer": "ipython3",
   "version": "3.8.20"
  }
 },
 "nbformat": 4,
 "nbformat_minor": 2
}
